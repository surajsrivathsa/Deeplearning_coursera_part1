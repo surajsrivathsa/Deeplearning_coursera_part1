{
  "nbformat": 4,
  "nbformat_minor": 0,
  "metadata": {
    "colab": {
      "name": "Assignment 1: Let the Tensors Flow.ipynb",
      "provenance": [],
      "collapsed_sections": [],
      "authorship_tag": "ABX9TyMEZD/vAbW+kjvkpHHnKZiI",
      "include_colab_link": true
    },
    "kernelspec": {
      "name": "python3",
      "display_name": "Python 3"
    }
  },
  "cells": [
    {
      "cell_type": "markdown",
      "metadata": {
        "id": "view-in-github",
        "colab_type": "text"
      },
      "source": [
        "<a href=\"https://colab.research.google.com/github/surajsrivathsa/Deeplearning_coursera_part1/blob/master/Assignment_1_Let_the_Tensors_Flow.ipynb\" target=\"_parent\"><img src=\"https://colab.research.google.com/assets/colab-badge.svg\" alt=\"Open In Colab\"/></a>"
      ]
    },
    {
      "cell_type": "code",
      "metadata": {
        "id": "Adh3WsE1dmkG",
        "colab_type": "code",
        "colab": {}
      },
      "source": [
        "import os\n",
        "%tensorflow_version 2.x\n",
        "import tensorflow as tf\n",
        "from sklearn import preprocessing\n",
        "from google.colab import files\n",
        "from google.colab import drive\n",
        "import matplotlib.pyplot as plt\n",
        "import pandas as pd\n",
        "import copy"
      ],
      "execution_count": 0,
      "outputs": []
    },
    {
      "cell_type": "code",
      "metadata": {
        "id": "-0iZWwrneCIk",
        "colab_type": "code",
        "outputId": "2c0da9bb-5a34-4d46-f947-5475d8e96f34",
        "colab": {
          "resources": {
            "http://localhost:8080/nbextensions/google.colab/files.js": {
              "data": "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",
              "ok": true,
              "headers": [
                [
                  "content-type",
                  "application/javascript"
                ]
              ],
              "status": 200,
              "status_text": ""
            }
          },
          "base_uri": "https://localhost:8080/",
          "height": 108
        }
      },
      "source": [
        "files.upload()"
      ],
      "execution_count": 16,
      "outputs": [
        {
          "output_type": "display_data",
          "data": {
            "text/html": [
              "\n",
              "     <input type=\"file\" id=\"files-21aeb009-1ebc-47bf-9252-15ebceb51e4c\" name=\"files[]\" multiple disabled />\n",
              "     <output id=\"result-21aeb009-1ebc-47bf-9252-15ebceb51e4c\">\n",
              "      Upload widget is only available when the cell has been executed in the\n",
              "      current browser session. Please rerun this cell to enable.\n",
              "      </output>\n",
              "      <script src=\"/nbextensions/google.colab/files.js\"></script> "
            ],
            "text/plain": [
              "<IPython.core.display.HTML object>"
            ]
          },
          "metadata": {
            "tags": []
          }
        },
        {
          "output_type": "stream",
          "text": [
            "Saving datasets.py to datasets (1).py\n"
          ],
          "name": "stdout"
        },
        {
          "output_type": "execute_result",
          "data": {
            "text/plain": [
              "{'datasets.py': b'import numpy as np\\n\\n\\nclass MNISTDataset:\\n    \"\"\"\\'Bare minimum\\' class to wrap MNIST numpy arrays into a dataset.\"\"\"\\n    def __init__(self, train_imgs, train_lbs, test_imgs, test_lbls, batch_size,\\n                 to01=True, shuffle=True, seed=None):\\n        \"\"\"\\n        Use seed optionally to always get the same shuffling (-> reproducible\\n        results).\\n        \"\"\"\\n        self.batch_size = batch_size\\n        self.train_data = train_imgs\\n        self.train_labels = train_lbs.astype(np.int32)\\n        self.test_data = test_imgs\\n        self.test_labels = test_lbls.astype(np.int32)\\n\\n        if to01:\\n            # int in [0, 255] -> float in [0, 1]\\n            self.train_data = self.train_data.astype(np.float32) / 255\\n            self.test_data = self.test_data.astype(np.float32) / 255\\n\\n        self.size = self.train_data.shape[0]\\n\\n        if seed:\\n            np.random.seed(seed)\\n        if shuffle:\\n            self.shuffle_train()\\n        self.shuffle = shuffle\\n        self.current_pos = 0\\n\\n    def next_batch(self):\\n        \"\"\"Either gets the next batch, or optionally shuffles and starts a\\n        new epoch.\"\"\"\\n        end_pos = self.current_pos + self.batch_size\\n        if end_pos < self.size:\\n            batch = (self.train_data[self.current_pos:end_pos],\\n                     self.train_labels[self.current_pos:end_pos])\\n            self.current_pos += self.batch_size\\n        else:\\n            # we return what\\'s left (-> possibly smaller batch!) and prepare\\n            # the start of a new epoch\\n            batch = (self.train_data[self.current_pos:self.size],\\n                     self.train_labels[self.current_pos:self.size])\\n            if self.shuffle:\\n                self.shuffle_train()\\n            self.current_pos = 0\\n            print(\"Starting new epoch...\")\\n        return batch\\n\\n    def shuffle_train(self):\\n        shuffled_inds = np.arange(self.train_data.shape[0])\\n        np.random.shuffle(shuffled_inds)\\n        self.train_data = self.train_data[shuffled_inds]\\n        self.train_labels = self.train_labels[shuffled_inds]\\n'}"
            ]
          },
          "metadata": {
            "tags": []
          },
          "execution_count": 16
        }
      ]
    },
    {
      "cell_type": "code",
      "metadata": {
        "id": "nO6eemPNfoat",
        "colab_type": "code",
        "outputId": "5c4ffd3a-c0ed-43f8-cd7b-7633efab32e5",
        "colab": {
          "base_uri": "https://localhost:8080/",
          "height": 34
        }
      },
      "source": [
        "print(os.getcwd())"
      ],
      "execution_count": 0,
      "outputs": [
        {
          "output_type": "stream",
          "text": [
            "/content\n"
          ],
          "name": "stdout"
        }
      ]
    },
    {
      "cell_type": "code",
      "metadata": {
        "id": "F420Gu-7f3x8",
        "colab_type": "code",
        "outputId": "0d709044-188d-47c1-bedf-e156df84c9c1",
        "colab": {
          "base_uri": "https://localhost:8080/",
          "height": 122
        }
      },
      "source": [
        "drive.mount('/content/drive')"
      ],
      "execution_count": 0,
      "outputs": [
        {
          "output_type": "stream",
          "text": [
            "Go to this URL in a browser: https://accounts.google.com/o/oauth2/auth?client_id=947318989803-6bn6qk8qdgf4n4g3pfee6491hc0brc4i.apps.googleusercontent.com&redirect_uri=urn%3aietf%3awg%3aoauth%3a2.0%3aoob&response_type=code&scope=email%20https%3a%2f%2fwww.googleapis.com%2fauth%2fdocs.test%20https%3a%2f%2fwww.googleapis.com%2fauth%2fdrive%20https%3a%2f%2fwww.googleapis.com%2fauth%2fdrive.photos.readonly%20https%3a%2f%2fwww.googleapis.com%2fauth%2fpeopleapi.readonly\n",
            "\n",
            "Enter your authorization code:\n",
            "··········\n",
            "Mounted at /content/drive\n"
          ],
          "name": "stdout"
        }
      ]
    },
    {
      "cell_type": "code",
      "metadata": {
        "id": "676Zm3kMgNJP",
        "colab_type": "code",
        "outputId": "8af31e09-6878-4928-98d5-e1df7ce004d2",
        "colab": {
          "base_uri": "https://localhost:8080/",
          "height": 119
        }
      },
      "source": [
        "\n",
        "path = '.'\n",
        " \n",
        "files = os.listdir(path)\n",
        "for name in files:\n",
        "    print(name)"
      ],
      "execution_count": 17,
      "outputs": [
        {
          "output_type": "stream",
          "text": [
            ".config\n",
            "__pycache__\n",
            "drive\n",
            "datasets.py\n",
            "datasets (1).py\n",
            "sample_data\n"
          ],
          "name": "stdout"
        }
      ]
    },
    {
      "cell_type": "code",
      "metadata": {
        "id": "QDi-WoL4glVC",
        "colab_type": "code",
        "colab": {}
      },
      "source": [
        "from datasets import MNISTDataset\n",
        "import matplotlib.pyplot as plt\n",
        "import numpy as np\n",
        "import pandas as pd"
      ],
      "execution_count": 0,
      "outputs": []
    },
    {
      "cell_type": "code",
      "metadata": {
        "id": "3Bnp4ZSih-UD",
        "colab_type": "code",
        "outputId": "c96e24a3-1c12-464f-c71e-9509cb05bbb5",
        "colab": {
          "base_uri": "https://localhost:8080/",
          "height": 282
        }
      },
      "source": [
        "mnist = tf.keras.datasets.mnist\n",
        "(train_images, train_labels), (test_images, test_labels) = mnist.load_data()\n",
        "plt.imshow(train_images[4], cmap=\"Greys_r\")"
      ],
      "execution_count": 144,
      "outputs": [
        {
          "output_type": "execute_result",
          "data": {
            "text/plain": [
              "<matplotlib.image.AxesImage at 0x7f9ab6b62828>"
            ]
          },
          "metadata": {
            "tags": []
          },
          "execution_count": 144
        },
        {
          "output_type": "display_data",
          "data": {
            "image/png": "[encoded data removed]",
            "text/plain": [
              "<Figure size 432x288 with 1 Axes>"
            ]
          },
          "metadata": {
            "tags": [],
            "needs_background": "light"
          }
        }
      ]
    },
    {
      "cell_type": "code",
      "metadata": {
        "id": "Tv3kUpzbiSgc",
        "colab_type": "code",
        "colab": {}
      },
      "source": [
        "data = MNISTDataset(train_images.reshape([-1, 784]), train_labels, \n",
        "                    test_images.reshape([-1, 784]), test_labels,\n",
        "                    batch_size=128)"
      ],
      "execution_count": 0,
      "outputs": []
    },
    {
      "cell_type": "code",
      "metadata": {
        "id": "-OSkU4SXimo-",
        "colab_type": "code",
        "outputId": "8f5727af-f217-4c10-f72b-989916f24044",
        "colab": {
          "base_uri": "https://localhost:8080/",
          "height": 102
        }
      },
      "source": [
        "! pip install sklearn"
      ],
      "execution_count": 0,
      "outputs": [
        {
          "output_type": "stream",
          "text": [
            "Requirement already satisfied: sklearn in /usr/local/lib/python3.6/dist-packages (0.0)\n",
            "Requirement already satisfied: scikit-learn in /usr/local/lib/python3.6/dist-packages (from sklearn) (0.22.2.post1)\n",
            "Requirement already satisfied: scipy>=0.17.0 in /usr/local/lib/python3.6/dist-packages (from scikit-learn->sklearn) (1.4.1)\n",
            "Requirement already satisfied: numpy>=1.11.0 in /usr/local/lib/python3.6/dist-packages (from scikit-learn->sklearn) (1.18.2)\n",
            "Requirement already satisfied: joblib>=0.11 in /usr/local/lib/python3.6/dist-packages (from scikit-learn->sklearn) (0.14.1)\n"
          ],
          "name": "stdout"
        }
      ]
    },
    {
      "cell_type": "code",
      "metadata": {
        "id": "0k2YymV1GhRS",
        "colab_type": "code",
        "outputId": "9de9c0cf-2671-49dc-d8d6-2ed5ab95bc99",
        "colab": {
          "base_uri": "https://localhost:8080/",
          "height": 102
        }
      },
      "source": [
        "!ls -ltr"
      ],
      "execution_count": 0,
      "outputs": [
        {
          "output_type": "stream",
          "text": [
            "total 16\n",
            "drwxr-xr-x 1 root root 4096 Apr  3 16:24 sample_data\n",
            "-rw-r--r-- 1 root root 2067 Apr 23 12:28 datasets.py\n",
            "drwx------ 4 root root 4096 Apr 23 12:38 drive\n",
            "drwxr-xr-x 2 root root 4096 Apr 23 12:39 __pycache__\n"
          ],
          "name": "stdout"
        }
      ]
    },
    {
      "cell_type": "code",
      "metadata": {
        "id": "9R84MQioGhjY",
        "colab_type": "code",
        "outputId": "cd9fba61-573b-4374-8dfd-eb2bd335ddf0",
        "colab": {
          "base_uri": "https://localhost:8080/",
          "height": 34
        }
      },
      "source": [
        "!pwd"
      ],
      "execution_count": 0,
      "outputs": [
        {
          "output_type": "stream",
          "text": [
            "/content\n"
          ],
          "name": "stdout"
        }
      ]
    },
    {
      "cell_type": "code",
      "metadata": {
        "id": "GO3ufo14HwkT",
        "colab_type": "code",
        "colab": {}
      },
      "source": [
        "a = tf.constant(3.0)\n",
        "b = tf.constant(5.0)"
      ],
      "execution_count": 0,
      "outputs": []
    },
    {
      "cell_type": "code",
      "metadata": {
        "id": "CjCb2DBLKJg6",
        "colab_type": "code",
        "outputId": "900e5f37-f982-460f-c3b9-4a35f35d3772",
        "colab": {
          "base_uri": "https://localhost:8080/",
          "height": 34
        }
      },
      "source": [
        "a"
      ],
      "execution_count": 0,
      "outputs": [
        {
          "output_type": "execute_result",
          "data": {
            "text/plain": [
              "<tf.Tensor: shape=(), dtype=float32, numpy=3.0>"
            ]
          },
          "metadata": {
            "tags": []
          },
          "execution_count": 23
        }
      ]
    },
    {
      "cell_type": "code",
      "metadata": {
        "id": "av9cn7AhKKJD",
        "colab_type": "code",
        "outputId": "9debbad4-4b7f-47ad-d4e9-e47294f1b661",
        "colab": {
          "base_uri": "https://localhost:8080/",
          "height": 34
        }
      },
      "source": [
        "a + b"
      ],
      "execution_count": 0,
      "outputs": [
        {
          "output_type": "execute_result",
          "data": {
            "text/plain": [
              "<tf.Tensor: shape=(), dtype=float32, numpy=8.0>"
            ]
          },
          "metadata": {
            "tags": []
          },
          "execution_count": 12
        }
      ]
    },
    {
      "cell_type": "code",
      "metadata": {
        "id": "qvcKmqVp8pcy",
        "colab_type": "code",
        "outputId": "3532027c-0e5e-4748-9e0d-ea5fdfc5d96e",
        "colab": {
          "base_uri": "https://localhost:8080/",
          "height": 51
        }
      },
      "source": [
        "print(tf.add([1.0, 2.7], [3.0, 4.8]))\n",
        "print(tf.reduce_sum([1, 2, 3, 4]))\n"
      ],
      "execution_count": 0,
      "outputs": [
        {
          "output_type": "stream",
          "text": [
            "tf.Tensor([4.  7.5], shape=(2,), dtype=float32)\n",
            "tf.Tensor(10, shape=(), dtype=int32)\n"
          ],
          "name": "stdout"
        }
      ]
    },
    {
      "cell_type": "code",
      "metadata": {
        "id": "G5M5es-s8pf9",
        "colab_type": "code",
        "outputId": "aacb88ae-4901-4d94-a657-12c4c1f15dfa",
        "colab": {
          "base_uri": "https://localhost:8080/",
          "height": 102
        }
      },
      "source": [
        "x = tf.matmul([[1, 2, 3], [4, 5, 6]], [[1,2], [3,4], [5,6]])\n",
        "print(x)\n",
        "print(x.shape)\n",
        "print(x.dtype)"
      ],
      "execution_count": 0,
      "outputs": [
        {
          "output_type": "stream",
          "text": [
            "tf.Tensor(\n",
            "[[22 28]\n",
            " [49 64]], shape=(2, 2), dtype=int32)\n",
            "(2, 2)\n",
            "<dtype: 'int32'>\n"
          ],
          "name": "stdout"
        }
      ]
    },
    {
      "cell_type": "code",
      "metadata": {
        "id": "VpIemRl18pmY",
        "colab_type": "code",
        "outputId": "d6689dc4-b459-4772-ef75-75f0a145c872",
        "colab": {
          "base_uri": "https://localhost:8080/",
          "height": 85
        }
      },
      "source": [
        "print(train_images.shape)\n",
        "print(train_labels.shape)\n",
        "print(test_images.shape)\n",
        "print(test_labels.shape)"
      ],
      "execution_count": 0,
      "outputs": [
        {
          "output_type": "stream",
          "text": [
            "(60000, 28, 28)\n",
            "(60000,)\n",
            "(10000, 28, 28)\n",
            "(10000,)\n"
          ],
          "name": "stdout"
        }
      ]
    },
    {
      "cell_type": "code",
      "metadata": {
        "id": "ashqMcAGKSPb",
        "colab_type": "code",
        "colab": {}
      },
      "source": [
        "# with tf.GradientTape() as tape:"
      ],
      "execution_count": 0,
      "outputs": []
    },
    {
      "cell_type": "code",
      "metadata": {
        "id": "C5TaQb00kcI9",
        "colab_type": "code",
        "colab": {}
      },
      "source": [
        ""
      ],
      "execution_count": 0,
      "outputs": []
    },
    {
      "cell_type": "code",
      "metadata": {
        "id": "0SwNz_KUkcWx",
        "colab_type": "code",
        "colab": {}
      },
      "source": [
        ""
      ],
      "execution_count": 0,
      "outputs": []
    },
    {
      "cell_type": "code",
      "metadata": {
        "id": "BCdMaD3hkchr",
        "colab_type": "code",
        "colab": {}
      },
      "source": [
        "training_steps = 10000\n",
        "learning_rate = 0.05\n",
        "W1 = tf.Variable(initial_value=np.random.rand(784, 10), dtype= tf.float32)\n",
        "B1 = tf.Variable(initial_value=np.random.rand(1, 10), dtype = tf.float32)"
      ],
      "execution_count": 0,
      "outputs": []
    },
    {
      "cell_type": "markdown",
      "metadata": {
        "id": "l9bqzPoNqDMy",
        "colab_type": "text"
      },
      "source": [
        "Error Faced during training in next step due to data type issue in weights and biases\n",
        "Weights and biases were of float64(double type) but float32(float) type expected.\n",
        "\n",
        "Error message: InvalidArgumentError: cannot compute MatMul as input #0(zero-based) was expected to be a float tensor but is a double tensor [Op:MatMul]\n",
        "Solution link : https://stackoverflow.com/questions/54255431/invalidargumenterror-cannot-compute-matmul-as-input-0zero-based-was-expected"
      ]
    },
    {
      "cell_type": "code",
      "metadata": {
        "id": "-krh05S_lkyL",
        "colab_type": "code",
        "outputId": "b799df45-be62-4b57-a3f4-e74b10174c20",
        "colab": {
          "base_uri": "https://localhost:8080/",
          "height": 51
        }
      },
      "source": [
        "print(W1.shape)\n",
        "print(B1.shape)\n",
        "#print(B1)\n",
        "#print(W1)"
      ],
      "execution_count": 0,
      "outputs": [
        {
          "output_type": "stream",
          "text": [
            "(784, 10)\n",
            "(1, 10)\n"
          ],
          "name": "stdout"
        }
      ]
    },
    {
      "cell_type": "code",
      "metadata": {
        "id": "FmpQqmZtltum",
        "colab_type": "code",
        "colab": {}
      },
      "source": [
        "for step in range(training_steps):\n",
        "  img_batch, lbl_batch = data.next_batch()\n",
        "  with tf.GradientTape() as tape:\n",
        "    logits = tf.matmul(img_batch, W1) + B1\n",
        "    error = tf.reduce_mean(tf.nn.sparse_softmax_cross_entropy_with_logits(labels = lbl_batch, logits = logits))\n",
        "  \n",
        "  grads1 = tape.gradient(error, [W1, B1])\n",
        "  W1.assign_sub(learning_rate * grads1[0])\n",
        "  B1.assign_sub(learning_rate * grads1[1])\n",
        "\n",
        "  if(step % 100 == 0):\n",
        "    preds = tf.argmax(logits, axis = 1, output_type = tf.int32)\n",
        "    accuracy = tf.reduce_mean(tf.cast(tf.equal(preds, lbl_batch), tf.float32))\n",
        "    print(\"Loss: {} and Accuracy: {}\".format(error, accuracy))"
      ],
      "execution_count": 0,
      "outputs": []
    },
    {
      "cell_type": "code",
      "metadata": {
        "id": "trJDREOmpiHj",
        "colab_type": "code",
        "outputId": "5d716fcd-c7ec-4ffd-cb38-0e6485414dac",
        "colab": {
          "base_uri": "https://localhost:8080/",
          "height": 34
        }
      },
      "source": [
        "test_preds = tf.argmax(tf.matmul(data.test_data, W1) + B1, axis=1,\n",
        "                       output_type=tf.int32)\n",
        "acc = tf.reduce_mean(tf.cast(tf.equal(test_preds, data.test_labels),\n",
        "                             tf.float32))\n",
        "print(acc)"
      ],
      "execution_count": 0,
      "outputs": [
        {
          "output_type": "stream",
          "text": [
            "tf.Tensor(0.913, shape=(), dtype=float32)\n"
          ],
          "name": "stdout"
        }
      ]
    },
    {
      "cell_type": "code",
      "metadata": {
        "id": "DDQpKdtgrRHX",
        "colab_type": "code",
        "colab": {}
      },
      "source": [
        ""
      ],
      "execution_count": 0,
      "outputs": []
    },
    {
      "cell_type": "markdown",
      "metadata": {
        "id": "eJEYAuVvsfjo",
        "colab_type": "text"
      },
      "source": [
        "Single layer Perceptron is completed, moving on to MLP"
      ]
    },
    {
      "cell_type": "markdown",
      "metadata": {
        "id": "8U9KPvidfBHO",
        "colab_type": "text"
      },
      "source": [
        "init_params function could dynamically generate parameters for number of hidden layers. It can also tune the initialization according to some value of param_initializer"
      ]
    },
    {
      "cell_type": "code",
      "metadata": {
        "id": "eRyUCkfkFuSK",
        "colab_type": "code",
        "colab": {
          "base_uri": "https://localhost:8080/",
          "height": 34
        },
        "outputId": "05cd666b-fa0f-49f3-d397-affad6f38d5c"
      },
      "source": [
        "def init_params(layer_matrix=[784,100,10], param_initializer=0.0):\n",
        "  params = {}\n",
        "  params_list = []\n",
        "  param_idx = len(layer_matrix)\n",
        "  if (len(layer_matrix) < 2):\n",
        "    raise Exception(\"layer matrix must have atleast an input and output layer\")\n",
        "\n",
        "  for i in range(1, param_idx):\n",
        "    l1 = layer_matrix[i-1]\n",
        "    l2 = layer_matrix[i]\n",
        "    params[\"W\" + str(i)] = tf.Variable(initial_value=np.random.rand(l1, l2) * param_initializer, dtype= tf.float32)\n",
        "    params[\"B\" + str(i)] = tf.Variable(initial_value=np.random.rand(1, l2) * param_initializer, dtype = tf.float32)\n",
        "    #params_list.append(\"W\" + str(i))\n",
        "    #params_list.append(\"B\" + str(i))\n",
        "    params_list.append(params[\"W\" + str(i)] )\n",
        "    params_list.append(params[\"B\" + str(i)])\n",
        "  return [params, params_list];\n",
        "\n",
        "\"\"\"\n",
        "params, params_list = init_params()\n",
        "for key,val in params.items():\n",
        "  print(key + \": \" + str(val.shape))\n",
        "params_list\n",
        "\"\"\""
      ],
      "execution_count": 139,
      "outputs": [
        {
          "output_type": "execute_result",
          "data": {
            "text/plain": [
              "'\\nparams, params_list = init_params()\\nfor key,val in params.items():\\n  print(key + \": \" + str(val.shape))\\nparams_list\\n'"
            ]
          },
          "metadata": {
            "tags": []
          },
          "execution_count": 139
        }
      ]
    },
    {
      "cell_type": "code",
      "metadata": {
        "id": "EmFCswkHFuev",
        "colab_type": "code",
        "colab": {
          "base_uri": "https://localhost:8080/",
          "height": 34
        },
        "outputId": "41182ffb-f608-4361-f8f7-9a4df750bf5b"
      },
      "source": [
        "def init_hyperparameters(iterations=100,learning_rate=0.1,batch_size=128):\n",
        "  hyper_parameters = {}\n",
        "  hyper_parameters[\"iterations\"] = iterations\n",
        "  hyper_parameters[\"learning_rate\"] = learning_rate\n",
        "  hyper_parameters[\"batch_size\"] = batch_size\n",
        "  return hyper_parameters;\n",
        "\n",
        "\"\"\"\n",
        "hyper_parameters = init_hyperparameters()\n",
        "for key, val in hyper_parameters.items():\n",
        "  print(key + \" : \" + str(val))\n",
        "\"\"\""
      ],
      "execution_count": 30,
      "outputs": [
        {
          "output_type": "execute_result",
          "data": {
            "text/plain": [
              "'\\nhyper_parameters = init_hyperparameters()\\nfor key, val in hyper_parameters.items():\\n  print(key + \" : \" + str(val))\\n'"
            ]
          },
          "metadata": {
            "tags": []
          },
          "execution_count": 30
        }
      ]
    },
    {
      "cell_type": "code",
      "metadata": {
        "id": "4iczmmdese57",
        "colab_type": "code",
        "colab": {
          "base_uri": "https://localhost:8080/",
          "height": 34
        },
        "outputId": "2a239e8f-9b8f-4bc5-9a21-6ad3faa0398d"
      },
      "source": [
        "def init_activations(layer_matrix=[784,100,10]):\n",
        "  activations = {}\n",
        "  for i in range(1, len(layer_matrix)):\n",
        "    activations[\"Z\" + str(i)] = None\n",
        "    activations[\"A\" + str(i)] = None\n",
        "  \n",
        "  return activations;\n",
        "\n",
        "\"\"\"\n",
        "activations = init_activations()\n",
        "for key, val in activations.items():\n",
        "  print(key + \" : \" + str(val))\n",
        "\"\"\""
      ],
      "execution_count": 44,
      "outputs": [
        {
          "output_type": "execute_result",
          "data": {
            "text/plain": [
              "'\\nactivations = init_activations()\\nfor key, val in activations.items():\\n  print(key + \" : \" + str(val))\\n'"
            ]
          },
          "metadata": {
            "tags": []
          },
          "execution_count": 44
        }
      ]
    },
    {
      "cell_type": "code",
      "metadata": {
        "id": "75n8lzBFrUBs",
        "colab_type": "code",
        "colab": {}
      },
      "source": [
        "def calculate_loss(actual_labels, predicted_labels=logits):\n",
        "  xent = tf.reduce_mean(tf.nn.sparse_softmax_cross_entropy_with_logits(labels = actual_labels, logits = predicted_labels))\n",
        "  return xent"
      ],
      "execution_count": 0,
      "outputs": []
    },
    {
      "cell_type": "code",
      "metadata": {
        "id": "SKtZ-JvriNAL",
        "colab_type": "code",
        "colab": {
          "base_uri": "https://localhost:8080/",
          "height": 54
        },
        "outputId": "eeed7908-8c3a-40e4-8dd1-ff9675a26e16"
      },
      "source": [
        "def forward_propagation(params, hyper_parameters, activations, features, labels, activation_function=\"relu\"):\n",
        "  learning_rate = hyper_parameters[\"learning_rate\"]\n",
        "  logits = None\n",
        "  with tf.GradientTape() as tape:\n",
        "    num = (len(list(activations.keys())) // 2) + 1\n",
        "    for i in range(1, num):\n",
        "      #special case for first input layer\n",
        "      if( i == 1):\n",
        "        activations[\"Z\" + str(i)] = tf.matmul(features, params[\"W\" + str(i)]) + params[\"B\" + str(i)]\n",
        "\n",
        "        if(activation_function == \"relu\"):\n",
        "          activations[\"A\" + str(i)] = tf.nn.relu(activations[\"Z\" + str(i)])\n",
        "        elif(activation_function == \"tanh\"):\n",
        "          activations[\"A\" + str(i)] = tf.nn.tanh(activations[\"Z\" + str(i)])\n",
        "        else:\n",
        "          activations[\"A\" + str(i)] = tf.nn.sigmoid(activations[\"Z\" + str(i)])\n",
        "\n",
        "      elif(i > 1 and i < num-1):\n",
        "        activations[\"Z\" + str(i)] = tf.matmul(activations[\"A\" + str(i-1)], params[\"W\" + str(i)]) + params[\"B\" + str(i)]\n",
        "\n",
        "        if(activation_function == \"relu\"):\n",
        "          activations[\"A\" + str(i)] = tf.nn.relu(activations[\"Z\" + str(i)])\n",
        "        elif(activation_function == \"tanh\"):\n",
        "          activations[\"A\" + str(i)] = tf.nn.tanh(activations[\"Z\" + str(i)])\n",
        "        else:\n",
        "          activations[\"A\" + str(i)] = tf.nn.sigmoid(activations[\"Z\" + str(i)])\n",
        "\n",
        "      #special case to handle last layer as it contains some other activation function\n",
        "      # output layer is hardcoded to softmax\n",
        "      elif(i == num - 1):\n",
        "        activations[\"Z\" + str(i)] = tf.matmul(activations[\"A\" + str(i-1)], params[\"W\" + str(i)]) + params[\"B\" + str(i)]\n",
        "        logits = activations[\"Z\" + str(i)] \n",
        "        activations[\"A\" + str(i)] = tf.nn.softmax(activations[\"Z\" + str(i)])\n",
        "\n",
        "    cost = calculate_loss(labels, logits)\n",
        "  return [tape, logits, activations, cost];\n",
        "\"\"\"\n",
        "errors recieved in this function:\n",
        "1. reason: tf.gradienttape did not have closing braces \n",
        "error: AttributeError: __enter__   \n",
        "solution: https://stackoverflow.com/questions/51427729/python-error-attributeerror-enter\n",
        "\n",
        "2. reason: missed to do floor division in num = (len(list(activations.keys())) / 2) + 1\n",
        "error: TypeError: 'float' object cannot be interpreted as an integer\n",
        "\n",
        "\"\"\"\n",
        "  "
      ],
      "execution_count": 151,
      "outputs": [
        {
          "output_type": "execute_result",
          "data": {
            "text/plain": [
              "\"\\nerrors recieved in this function:\\n1. reason: tf.gradienttape did not have closing braces \\nerror: AttributeError: __enter__   \\nsolution: https://stackoverflow.com/questions/51427729/python-error-attributeerror-enter\\n\\n2. reason: missed to do floor division in num = (len(list(activations.keys())) / 2) + 1\\nerror: TypeError: 'float' object cannot be interpreted as an integer\\n\\n\""
            ]
          },
          "metadata": {
            "tags": []
          },
          "execution_count": 151
        }
      ]
    },
    {
      "cell_type": "code",
      "metadata": {
        "id": "Zf6a38JfsMnt",
        "colab_type": "code",
        "colab": {
          "base_uri": "https://localhost:8080/",
          "height": 54
        },
        "outputId": "79e35565-4636-438e-bb5e-93848bc0fe2b"
      },
      "source": [
        "def backward_propagation(tape, params, cost, params_list, hyper_parameters):\n",
        "  learning_rate = hyper_parameters[\"learning_rate\"]\n",
        "  grads = tape.gradient(cost, params_list)\n",
        "  #print(type(grads[1]))\n",
        "  #print(len(grads))\n",
        "  for i in range(1, len(grads), 2):\n",
        "    ix = i//2 + 1\n",
        "    #print(type(params[\"W\" + str(ix)]))\n",
        "    params[\"W\" + str(ix)].assign_sub(learning_rate * grads[i-1])\n",
        "    params[\"B\" + str(ix)].assign_sub(learning_rate * grads[i])\n",
        "  \n",
        "  return params\n",
        "\n",
        "\"\"\"\n",
        "1. reason: tape requires list of actual tensorflow variables to keep track of, i had provided it a list of strings like \"W1\" instead of contents inside W1\n",
        "error: TypeError: Cannot convert value 'W1' to a TensorFlow DType.\n",
        "fix: fixed in init_param function\n",
        "\n",
        "2. reason: tape requires a valid cost and list of parameters it should update, I had provided an invalid cost. Hence tape provided list of objects\n",
        "of all NoneType\n",
        "error: TypeError: unsupported operand type(s) for *: 'float' and 'NoneType' : params[\"W\" + str(ix)].assign_sub(learning_rate * grads[i-1])\n",
        "fix: added cost as parameter to function and used the same inside tape\n",
        "\n",
        "3. reason: again recieved similar error as 2\n",
        "error: TypeError: unsupported operand type(s) for *: 'float' and 'NoneType' : params[\"W\" + str(ix)].assign_sub(learning_rate * grads[i-1])\n",
        "fix: introspection forward propagation function told that the calculation of cost was not inside the scope of With clause of gradienttape\n",
        "hence tape was not tracking cost, even though cost was computed outside with clause. Hence tape could not replay the cost resulting in no gradients\n",
        "\"\"\"\n"
      ],
      "execution_count": 116,
      "outputs": [
        {
          "output_type": "execute_result",
          "data": {
            "text/plain": [
              "'\\n1. reason: tape requires list of actual tensorflow variables to keep track of, i had provided it a list of strings like \"W1\" instead of contents inside W1\\nerror: TypeError: Cannot convert value \\'W1\\' to a TensorFlow DType.\\nfix: fixed in init_param function\\n\\n2. reason: tape requires a valid cost and list of parameters it should update, I had provided an invalid cost. Hence tape provided list of objects\\nof all NoneType\\nerror: TypeError: unsupported operand type(s) for *: \\'float\\' and \\'NoneType\\' : params[\"W\" + str(ix)].assign_sub(learning_rate * grads[i-1])\\nfix: added cost as parameter to function and used the same inside tape\\n\\n3. reason: again recieved similar error as 2\\nerror: TypeError: unsupported operand type(s) for *: \\'float\\' and \\'NoneType\\' : params[\"W\" + str(ix)].assign_sub(learning_rate * grads[i-1])\\nfix: introspection forward propagation function told that the calculation of cost was not inside the scope of With clause of gradienttape\\nhence tape was not tracking cost, even though cost was computed outside with clause. Hence tape could not replay the cost resulting in no gradients\\n'"
            ]
          },
          "metadata": {
            "tags": []
          },
          "execution_count": 116
        }
      ]
    },
    {
      "cell_type": "code",
      "metadata": {
        "id": "L4PBRBPqy_-4",
        "colab_type": "code",
        "colab": {
          "base_uri": "https://localhost:8080/",
          "height": 54
        },
        "outputId": "94297f06-0e84-4fd1-ec62-c18e7dde10dc"
      },
      "source": [
        "def run_model(hyper_parameters, params, activations, grads, params_list, activation_function=\"relu\"):\n",
        "  iterations = hyper_parameters[\"iterations\"];\n",
        "  report_dict = {}\n",
        "  costs = []\n",
        "  steps = []\n",
        "  accuracy = []\n",
        "  for step in range(iterations):\n",
        "\n",
        "    features,  labels = data.next_batch()\n",
        "    #print(features.shape)\n",
        "    #print(labels.shape)\n",
        "\n",
        "    tape, logits, activations, cost = forward_propagation(params, hyper_parameters, activations, features, labels, activation_function);\n",
        "    #                                 forward_propagation(params, hyper_parameters, activations, features, labels, activation_function=\"relu\")\n",
        "    params = backward_propagation(tape, params, cost, params_list, hyper_parameters)\n",
        "\n",
        "    if(step % 100 == 0):\n",
        "      preds = tf.argmax(logits, axis=1, output_type=tf.int32)\n",
        "      acc = tf.reduce_mean(tf.cast(tf.equal(preds, labels), tf.float32))\n",
        "      steps.append(step)\n",
        "      accuracy.append(acc)\n",
        "      costs.append(cost)\n",
        "      print(\"\")\n",
        "      print(\"Cost at {} iteration and accuracy are: {} , {}\".format(step, cost, acc))\n",
        "\n",
        "  report_dict[\"cost\"] = costs\n",
        "  report_dict[\"steps\"] = steps\n",
        "  report_dict[\"accuracy\"] = accuracy\n",
        "  return costs, report_dict\n",
        "\n",
        "\"\"\"\n",
        "1. reason: missed using cost parameter while calling backward prop\n",
        "error: TypeError: backward_propagation() missing 1 required positional argument: 'hyper_parameters'\n",
        "fix: added parameter\n",
        "\n",
        "2. reason: using an old global variable instead of variable passed to function\n",
        "error: shape mismatch while calculating cost function\n",
        "fix: replaced the old global var \"train_feature_batch\" with local var called \"feature\"\n",
        "\"\"\""
      ],
      "execution_count": 161,
      "outputs": [
        {
          "output_type": "execute_result",
          "data": {
            "text/plain": [
              "'\\n1. reason: missed using cost parameter while calling backward prop\\nerror: TypeError: backward_propagation() missing 1 required positional argument: \\'hyper_parameters\\'\\nfix: added parameter\\n\\n2. reason: using an old global variable instead of variable passed to function\\nerror: shape mismatch while calculating cost function\\nfix: replaced the old global var \"train_feature_batch\" with local var called \"feature\"\\n'"
            ]
          },
          "metadata": {
            "tags": []
          },
          "execution_count": 161
        }
      ]
    },
    {
      "cell_type": "code",
      "metadata": {
        "id": "u8syUnm523LU",
        "colab_type": "code",
        "colab": {
          "base_uri": "https://localhost:8080/",
          "height": 34
        },
        "outputId": "de61fcd6-2d78-4994-e865-9b11ac52606f"
      },
      "source": [
        "# performing Initializations of hyperparameters, parameters and activations\n",
        "layer_matrix = [784, 200, 50 ,10]\n",
        "hyper_parameters = init_hyperparameters(iterations = 7000, learning_rate = 0.1, batch_size = 128)\n",
        "params, params_list = init_params(layer_matrix = layer_matrix, param_initializer = 0.01)\n",
        "activations = init_activations(layer_matrix= layer_matrix)\n",
        "print(type(params_list[0]))"
      ],
      "execution_count": 188,
      "outputs": [
        {
          "output_type": "stream",
          "text": [
            "<class 'tensorflow.python.ops.resource_variable_ops.ResourceVariable'>\n"
          ],
          "name": "stdout"
        }
      ]
    },
    {
      "cell_type": "code",
      "metadata": {
        "id": "Syo2l-qE5RTr",
        "colab_type": "code",
        "colab": {}
      },
      "source": [
        "# testing forward prop\n",
        "train_features_batch, train_labels_batch = data.next_batch()\n",
        "tape, logits, activations, cost = forward_propagation(params, hyper_parameters, activations, train_features_batch, train_labels_batch, activation_function=\"relu\")\n",
        "\n"
      ],
      "execution_count": 0,
      "outputs": []
    },
    {
      "cell_type": "code",
      "metadata": {
        "id": "2kUTf39p6flP",
        "colab_type": "code",
        "colab": {
          "base_uri": "https://localhost:8080/",
          "height": 272
        },
        "outputId": "353af3ed-47f6-4e52-9306-d88c3fdc4710"
      },
      "source": [
        "# printed output recieved from one forward pass\n",
        "print(tape)\n",
        "print(logits)\n",
        "print(activations.keys())\n",
        "print(cost)\n",
        "print(params[\"B2\"])"
      ],
      "execution_count": 156,
      "outputs": [
        {
          "output_type": "stream",
          "text": [
            "<tensorflow.python.eager.backprop.GradientTape object at 0x7f9ab6072fd0>\n",
            "tf.Tensor(\n",
            "[[25.244429 23.151955 23.114632 ... 24.75577  26.43208  25.060719]\n",
            " [17.695206 16.228666 16.122757 ... 17.303791 18.589573 17.432745]\n",
            " [21.280712 19.577728 19.569845 ... 20.751434 22.325182 21.162598]\n",
            " ...\n",
            " [29.830671 27.322517 27.404358 ... 29.19024  31.388338 29.573343]\n",
            " [23.531584 21.531326 21.526363 ... 23.015947 24.651817 23.173769]\n",
            " [29.523157 27.13232  26.865808 ... 28.808971 30.81881  29.238995]], shape=(128, 10), dtype=float32)\n",
            "dict_keys(['Z1', 'A1', 'Z2', 'A2'])\n",
            "tf.Tensor(2.78189, shape=(), dtype=float32)\n",
            "<tf.Variable 'Variable:0' shape=(1, 10) dtype=float32, numpy=\n",
            "array([[ 0.03472899,  0.09558134,  0.01729195,  0.03279727,  0.08431684,\n",
            "         0.0444666 ,  0.08504613,  0.07441913, -0.00381327,  0.02102601]],\n",
            "      dtype=float32)>\n"
          ],
          "name": "stdout"
        }
      ]
    },
    {
      "cell_type": "code",
      "metadata": {
        "id": "pJdNIDwm673F",
        "colab_type": "code",
        "colab": {}
      },
      "source": [
        "# testing backward pass\n",
        "params = backward_propagation(tape, params, cost, params_list, hyper_parameters)"
      ],
      "execution_count": 0,
      "outputs": []
    },
    {
      "cell_type": "code",
      "metadata": {
        "id": "OcdDRot6Jn3r",
        "colab_type": "code",
        "colab": {
          "base_uri": "https://localhost:8080/",
          "height": 85
        },
        "outputId": "23c1202a-8842-4a1f-adcb-d29b3a1fade2"
      },
      "source": [
        "# printing output recieved from back propagation\n",
        "print(params[\"B2\"])"
      ],
      "execution_count": 155,
      "outputs": [
        {
          "output_type": "stream",
          "text": [
            "<tf.Variable 'Variable:0' shape=(1, 10) dtype=float32, numpy=\n",
            "array([[ 0.03472899,  0.09558134,  0.01729195,  0.03279727,  0.08431684,\n",
            "         0.0444666 ,  0.08504613,  0.07441913, -0.00381327,  0.02102601]],\n",
            "      dtype=float32)>\n"
          ],
          "name": "stdout"
        }
      ]
    },
    {
      "cell_type": "code",
      "metadata": {
        "id": "zjXTDIAGJ8SV",
        "colab_type": "code",
        "colab": {
          "base_uri": "https://localhost:8080/",
          "height": 1000
        },
        "outputId": "db362314-91ac-4fca-b38d-f13942160397"
      },
      "source": [
        "# testing complete model run\n",
        "costs, report_dict = run_model(hyper_parameters, params, activations, grads, params_list, activation_function=\"relu\")"
      ],
      "execution_count": 189,
      "outputs": [
        {
          "output_type": "stream",
          "text": [
            "\n",
            "Cost at 0 iteration and accuracy are: 2.3028132915496826 , 0.09375\n",
            "Starting new epoch...\n",
            "\n",
            "Cost at 100 iteration and accuracy are: 2.2376084327697754 , 0.234375\n",
            "\n",
            "Cost at 200 iteration and accuracy are: 1.8995378017425537 , 0.2734375\n",
            "\n",
            "Cost at 300 iteration and accuracy are: 1.851440668106079 , 0.2734375\n",
            "\n",
            "Cost at 400 iteration and accuracy are: 1.8355517387390137 , 0.2421875\n",
            "\n",
            "Cost at 500 iteration and accuracy are: 1.7023751735687256 , 0.2890625\n",
            "Starting new epoch...\n",
            "\n",
            "Cost at 600 iteration and accuracy are: 1.7243726253509521 , 0.3046875\n",
            "\n",
            "Cost at 700 iteration and accuracy are: 1.5012097358703613 , 0.3203125\n",
            "\n",
            "Cost at 800 iteration and accuracy are: 1.470348596572876 , 0.4765625\n",
            "\n",
            "Cost at 900 iteration and accuracy are: 1.192514181137085 , 0.6171875\n",
            "Starting new epoch...\n",
            "\n",
            "Cost at 1000 iteration and accuracy are: 0.8410085439682007 , 0.7734375\n",
            "\n",
            "Cost at 1100 iteration and accuracy are: 0.6898727416992188 , 0.828125\n",
            "\n",
            "Cost at 1200 iteration and accuracy are: 0.43991923332214355 , 0.875\n",
            "\n",
            "Cost at 1300 iteration and accuracy are: 0.419018417596817 , 0.9140625\n",
            "\n",
            "Cost at 1400 iteration and accuracy are: 0.3911934196949005 , 0.8203125\n",
            "Starting new epoch...\n",
            "\n",
            "Cost at 1500 iteration and accuracy are: 0.3865306079387665 , 0.8515625\n",
            "\n",
            "Cost at 1600 iteration and accuracy are: 0.36732983589172363 , 0.8828125\n",
            "\n",
            "Cost at 1700 iteration and accuracy are: 0.18794865906238556 , 0.921875\n",
            "\n",
            "Cost at 1800 iteration and accuracy are: 0.20526427030563354 , 0.9375\n",
            "\n",
            "Cost at 1900 iteration and accuracy are: 0.17563408613204956 , 0.953125\n",
            "Starting new epoch...\n",
            "\n",
            "Cost at 2000 iteration and accuracy are: 0.2079353630542755 , 0.9296875\n",
            "\n",
            "Cost at 2100 iteration and accuracy are: 0.21406392753124237 , 0.9140625\n",
            "\n",
            "Cost at 2200 iteration and accuracy are: 0.10615953803062439 , 0.96875\n",
            "\n",
            "Cost at 2300 iteration and accuracy are: 0.14920970797538757 , 0.96875\n",
            "Starting new epoch...\n",
            "\n",
            "Cost at 2400 iteration and accuracy are: 0.192221999168396 , 0.9375\n",
            "\n",
            "Cost at 2500 iteration and accuracy are: 0.17676620185375214 , 0.9609375\n",
            "\n",
            "Cost at 2600 iteration and accuracy are: 0.2055288553237915 , 0.953125\n",
            "\n",
            "Cost at 2700 iteration and accuracy are: 0.1625502109527588 , 0.9453125\n",
            "\n",
            "Cost at 2800 iteration and accuracy are: 0.23370008170604706 , 0.9375\n",
            "Starting new epoch...\n",
            "\n",
            "Cost at 2900 iteration and accuracy are: 0.1623944640159607 , 0.953125\n",
            "\n",
            "Cost at 3000 iteration and accuracy are: 0.0941251814365387 , 0.984375\n",
            "\n",
            "Cost at 3100 iteration and accuracy are: 0.126531183719635 , 0.9453125\n",
            "\n",
            "Cost at 3200 iteration and accuracy are: 0.13835273683071136 , 0.9453125\n",
            "\n",
            "Cost at 3300 iteration and accuracy are: 0.09081336855888367 , 0.984375\n",
            "Starting new epoch...\n",
            "\n",
            "Cost at 3400 iteration and accuracy are: 0.33815568685531616 , 0.921875\n",
            "\n",
            "Cost at 3500 iteration and accuracy are: 0.09183065593242645 , 0.9765625\n",
            "\n",
            "Cost at 3600 iteration and accuracy are: 0.08937738090753555 , 0.9765625\n",
            "\n",
            "Cost at 3700 iteration and accuracy are: 0.0897459164261818 , 0.9765625\n",
            "Starting new epoch...\n",
            "\n",
            "Cost at 3800 iteration and accuracy are: 0.1619974970817566 , 0.953125\n",
            "\n",
            "Cost at 3900 iteration and accuracy are: 0.10034629702568054 , 0.96875\n",
            "\n",
            "Cost at 4000 iteration and accuracy are: 0.07584157586097717 , 0.9765625\n",
            "\n",
            "Cost at 4100 iteration and accuracy are: 0.0702885314822197 , 0.9765625\n",
            "\n",
            "Cost at 4200 iteration and accuracy are: 0.14003439247608185 , 0.9609375\n",
            "Starting new epoch...\n",
            "\n",
            "Cost at 4300 iteration and accuracy are: 0.11714518070220947 , 0.9765625\n",
            "\n",
            "Cost at 4400 iteration and accuracy are: 0.09845646470785141 , 0.96875\n",
            "\n",
            "Cost at 4500 iteration and accuracy are: 0.04675079882144928 , 0.9921875\n",
            "\n",
            "Cost at 4600 iteration and accuracy are: 0.12821808457374573 , 0.96875\n",
            "\n",
            "Cost at 4700 iteration and accuracy are: 0.07944858074188232 , 0.9921875\n",
            "Starting new epoch...\n",
            "\n",
            "Cost at 4800 iteration and accuracy are: 0.042780760675668716 , 0.9921875\n",
            "\n",
            "Cost at 4900 iteration and accuracy are: 0.06692883372306824 , 0.96875\n",
            "\n",
            "Cost at 5000 iteration and accuracy are: 0.1360846608877182 , 0.96875\n",
            "\n",
            "Cost at 5100 iteration and accuracy are: 0.10973399877548218 , 0.9765625\n",
            "Starting new epoch...\n",
            "\n",
            "Cost at 5200 iteration and accuracy are: 0.056686535477638245 , 0.9791666865348816\n",
            "\n",
            "Cost at 5300 iteration and accuracy are: 0.04023268446326256 , 0.9921875\n",
            "\n",
            "Cost at 5400 iteration and accuracy are: 0.05032149329781532 , 0.984375\n",
            "\n",
            "Cost at 5500 iteration and accuracy are: 0.04627981781959534 , 0.96875\n",
            "\n",
            "Cost at 5600 iteration and accuracy are: 0.04163702577352524 , 0.984375\n",
            "Starting new epoch...\n",
            "\n",
            "Cost at 5700 iteration and accuracy are: 0.030145421624183655 , 0.9921875\n",
            "\n",
            "Cost at 5800 iteration and accuracy are: 0.0714087188243866 , 0.984375\n",
            "\n",
            "Cost at 5900 iteration and accuracy are: 0.023470250889658928 , 1.0\n",
            "\n",
            "Cost at 6000 iteration and accuracy are: 0.11816859245300293 , 0.96875\n",
            "\n",
            "Cost at 6100 iteration and accuracy are: 0.05900094658136368 , 0.984375\n",
            "Starting new epoch...\n",
            "\n",
            "Cost at 6200 iteration and accuracy are: 0.0436800941824913 , 0.9921875\n",
            "\n",
            "Cost at 6300 iteration and accuracy are: 0.02826021984219551 , 0.9921875\n",
            "\n",
            "Cost at 6400 iteration and accuracy are: 0.09535929560661316 , 0.96875\n",
            "\n",
            "Cost at 6500 iteration and accuracy are: 0.07052432745695114 , 0.9765625\n",
            "\n",
            "Cost at 6600 iteration and accuracy are: 0.013827914372086525 , 1.0\n",
            "Starting new epoch...\n",
            "\n",
            "Cost at 6700 iteration and accuracy are: 0.07394464313983917 , 0.96875\n",
            "\n",
            "Cost at 6800 iteration and accuracy are: 0.05107665807008743 , 0.9765625\n",
            "\n",
            "Cost at 6900 iteration and accuracy are: 0.011635699309408665 , 1.0\n"
          ],
          "name": "stdout"
        }
      ]
    },
    {
      "cell_type": "code",
      "metadata": {
        "id": "HoGcGXmVTeaj",
        "colab_type": "code",
        "colab": {}
      },
      "source": [
        "# function to get accuracy on test dataset\n",
        "\n",
        "def test_model(hyper_parameters, params, activations, grads, params_list, activation_function=\"relu\"):\n",
        "  features = data.test_data;\n",
        "  labels = data.test_labels\n",
        "  test_tape, test_logits, test_activations, test_cost = forward_propagation(params, hyper_parameters, activations, features, labels, activation_function)\n",
        "  #Z1_test = tf.matmul(data.test_data, W1) + B1\n",
        "  #A1_test = tf.nn.relu(Z1_test)\n",
        "\n",
        "  #logits_test = tf.matmul(A1_test, W2) + B2\n",
        "\n",
        "  test_preds = tf.argmax(test_logits, axis=1,output_type=tf.int32)\n",
        "  acc = tf.reduce_mean(tf.cast(tf.equal(test_preds, labels),tf.float32))\n",
        "  print(acc)"
      ],
      "execution_count": 0,
      "outputs": []
    },
    {
      "cell_type": "code",
      "metadata": {
        "id": "hWmtiut7UqYA",
        "colab_type": "code",
        "colab": {
          "base_uri": "https://localhost:8080/",
          "height": 34
        },
        "outputId": "1ac18b72-5f2c-42e4-dc80-8658acbe25b9"
      },
      "source": [
        "test_model(hyper_parameters, params, activations, grads, params_list, activation_function=\"relu\")"
      ],
      "execution_count": 190,
      "outputs": [
        {
          "output_type": "stream",
          "text": [
            "tf.Tensor(0.974, shape=(), dtype=float32)\n"
          ],
          "name": "stdout"
        }
      ]
    },
    {
      "cell_type": "code",
      "metadata": {
        "id": "hFEIhDJ3VJhf",
        "colab_type": "code",
        "colab": {}
      },
      "source": [
        "def plot_figures(hyper_parameters, report_dict):\n",
        "  dict = copy.deepcopy(report_dict)\n",
        "  #print(report_dict.keys())\n",
        "\n",
        "  for key, val in dict.items():\n",
        "    if(key == \"cost\" or key == \"accuracy\"):\n",
        "      for i in range(0, len(val)):\n",
        "          val[i] = val[i].numpy()\n",
        "\n",
        "  #print(dict)\n",
        "\n",
        "  #my_tensor.numpy()\n",
        "  report_df =  pd.DataFrame(dict, columns=['cost', 'steps', 'accuracy'])\n",
        "  report_df.head()\n",
        "  # gca stands for 'get current axis'\n",
        "  ax = plt.gca()\n",
        "  report_df.plot(kind='line',x='steps',y='cost',ax=ax)\n",
        "  plt.show()\n",
        "\n",
        "  ax1 = plt.gca()\n",
        "  report_df.plot(kind='line',x='steps',y='accuracy', color='red', ax=ax1)\n",
        "  plt.show()"
      ],
      "execution_count": 0,
      "outputs": []
    },
    {
      "cell_type": "code",
      "metadata": {
        "id": "qPGnYdXRbkQX",
        "colab_type": "code",
        "colab": {
          "base_uri": "https://localhost:8080/",
          "height": 541
        },
        "outputId": "ca825d11-2bb2-4de2-9a7b-55fcc3fe6bfc"
      },
      "source": [
        "plot_figures(hyper_parameters, report_dict)"
      ],
      "execution_count": 191,
      "outputs": [
        {
          "output_type": "display_data",
          "data": {
            "image/png": "[encoded data removed]",
            "text/plain": [
              "<Figure size 432x288 with 1 Axes>"
            ]
          },
          "metadata": {
            "tags": [],
            "needs_background": "light"
          }
        },
        {
          "output_type": "display_data",
          "data": {
            "image/png": "[encoded data removed]",
            "text/plain": [
              "<Figure size 432x288 with 1 Axes>"
            ]
          },
          "metadata": {
            "tags": [],
            "needs_background": "light"
          }
        }
      ]
    },
    {
      "cell_type": "code",
      "metadata": {
        "id": "LhFxMxiT3xBc",
        "colab_type": "code",
        "colab": {
          "base_uri": "https://localhost:8080/",
          "height": 34
        },
        "outputId": "cecf5cc1-75d6-44a1-8506-9cfc66e9664e"
      },
      "source": [
        "print(activations)"
      ],
      "execution_count": 52,
      "outputs": [
        {
          "output_type": "stream",
          "text": [
            "{'Z1': None, 'A1': None, 'Z2': None, 'A2': None}\n"
          ],
          "name": "stdout"
        }
      ]
    },
    {
      "cell_type": "code",
      "metadata": {
        "id": "QPLDvzB6yQC9",
        "colab_type": "code",
        "colab": {
          "base_uri": "https://localhost:8080/",
          "height": 85
        },
        "outputId": "497fa81c-d153-484a-e3de-125bdc95ed3f"
      },
      "source": [
        "for i in range(1, 8, 2):\n",
        "    print(i//2 + 1)"
      ],
      "execution_count": 39,
      "outputs": [
        {
          "output_type": "stream",
          "text": [
            "1\n",
            "2\n",
            "3\n",
            "4\n"
          ],
          "name": "stdout"
        }
      ]
    },
    {
      "cell_type": "code",
      "metadata": {
        "id": "TW21Y0WuOYXn",
        "colab_type": "code",
        "colab": {}
      },
      "source": [
        "training_steps = 10000\n",
        "learning_rate = 0.05\n",
        "W1 = tf.Variable(initial_value=np.random.rand(784, 100), dtype= tf.float32)\n",
        "B1 = tf.Variable(initial_value=np.random.rand(1, 100), dtype = tf.float32)\n",
        "W2 = tf.Variable(initial_value=np.random.rand(100, 10), dtype= tf.float32)\n",
        "B2 = tf.Variable(initial_value=np.random.rand(1, 10), dtype = tf.float32)"
      ],
      "execution_count": 0,
      "outputs": []
    },
    {
      "cell_type": "code",
      "metadata": {
        "id": "boZu8YqltBOn",
        "colab_type": "code",
        "colab": {}
      },
      "source": [
        "for step in range(5000):\n",
        "  train_features_batch, train_labels_batch = data.next_batch()\n",
        "\n",
        "  with tf.GradientTape() as tape:\n",
        "    #tape.watch([W1, B1, W2, B2])\n",
        "    Z1 = tf.matmul(train_features_batch, W1) + B1\n",
        "    A1 = tf.nn.relu(Z1)\n",
        "    #tape.watch([Z1, A1])\n",
        "    logits = tf.matmul(A1, W2) + B2\n",
        "    \n",
        "    xent = tf.reduce_mean(tf.nn.sparse_softmax_cross_entropy_with_logits(labels = train_labels_batch, logits = logits))\n",
        "    #tape.watch(xent)\n",
        "  \n",
        "  grads = tape.gradient(xent, [ W1, B1, W2, B2])\n",
        "  #print(grads[0] )\n",
        "  #print(grads[1])\n",
        "  #print(grads[2])\n",
        "  W1.assign_sub(learning_rate * grads[0])\n",
        "  B1.assign_sub(learning_rate * grads[1])\n",
        "  W2.assign_sub(learning_rate * grads[2])\n",
        "  B2.assign_sub(learning_rate * grads[3])\n",
        "\n",
        "\n",
        "  if(step%500 == 0):\n",
        "    # print(grads)\n",
        "    #print(grads[0])\n",
        "    #print(grads[1])\n",
        "    #print(grads[2])\n",
        "    #print(grads[3])\n",
        "    preds = tf.argmax(logits, axis = 1,output_type = tf.int32)\n",
        "    acc = tf.reduce_mean(tf.cast(tf.equal(preds, train_labels_batch), dtype = tf.float32))\n",
        "    print(\"Loss: {} and Accuracy: {}\".format(xent, acc))"
      ],
      "execution_count": 0,
      "outputs": []
    },
    {
      "cell_type": "code",
      "metadata": {
        "id": "sF2f3GvNz7Xs",
        "colab_type": "code",
        "outputId": "413f4256-b47b-4ce8-db64-1efccd01bacd",
        "colab": {
          "base_uri": "https://localhost:8080/",
          "height": 34
        }
      },
      "source": [
        "\n",
        "Z1_test = tf.matmul(data.test_data, W1) + B1\n",
        "A1_test = tf.nn.relu(Z1_test)\n",
        "#tape.watch([Z1, A1])\n",
        "logits_test = tf.matmul(A1_test, W2) + B2\n",
        "\n",
        "test_preds = tf.argmax(logits_test, axis=1,output_type=tf.int32)\n",
        "acc = tf.reduce_mean(tf.cast(tf.equal(test_preds, data.test_labels),\n",
        "                             tf.float32))\n",
        "print(acc)"
      ],
      "execution_count": 0,
      "outputs": [
        {
          "output_type": "stream",
          "text": [
            "tf.Tensor(0.9736, shape=(), dtype=float32)\n"
          ],
          "name": "stdout"
        }
      ]
    },
    {
      "cell_type": "code",
      "metadata": {
        "id": "cRk9SCA0xBBe",
        "colab_type": "code",
        "colab": {}
      },
      "source": [
        ""
      ],
      "execution_count": 0,
      "outputs": []
    }
  ]
}